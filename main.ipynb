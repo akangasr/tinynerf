{
 "cells": [
  {
   "cell_type": "code",
   "execution_count": null,
   "metadata": {},
   "outputs": [],
   "source": [
    "import os\n",
    "import numpy as np\n",
    "import torch\n",
    "import matplotlib.pyplot as plt"
   ]
  },
  {
   "cell_type": "code",
   "execution_count": null,
   "metadata": {},
   "outputs": [],
   "source": [
    "loc_enc_dim = 5\n",
    "N_samples = 15\n",
    "near = 2.0\n",
    "far = 6.0"
   ]
  },
  {
   "cell_type": "code",
   "execution_count": null,
   "metadata": {},
   "outputs": [],
   "source": [
    "def load_data():\n",
    "    # http://cseweb.ucsd.edu/~viscomp/projects/LF/papers/ECCV20/nerf/tiny_nerf_data.npz\n",
    "    data = np.load('tiny_nerf_data.npz')\n",
    "    images = data['images']\n",
    "    poses = data['poses']\n",
    "    focal = data['focal']\n",
    "    H, W = images.shape[1:3]\n",
    "    print(images.shape, poses.shape, focal)\n",
    "\n",
    "    testimg, testpose = images[101], poses[101]\n",
    "    images = images[:100,...,:3]\n",
    "    poses = poses[:100]\n",
    "\n",
    "    plt.imshow(testimg)\n",
    "    plt.show()\n",
    "    print(poses[0])\n",
    "    return images, poses, focal, H, W\n",
    "    \n",
    "images, poses, focal, H, W = load_data()"
   ]
  },
  {
   "cell_type": "code",
   "execution_count": null,
   "metadata": {},
   "outputs": [],
   "source": [
    "def ray_origins_directions(H, W, focal, pose):\n",
    "    x, y = np.meshgrid(np.arange(W), np.arange(H))\n",
    "    dirs = np.stack([(x-W*.5)/focal, -(y-H*.5)/focal, -np.ones_like(x)], -1)\n",
    "    dirs = np.matmul(dirs, pose[:3, :3])\n",
    "    origs = np.tile(pose[0:3, 3:4].T, (dirs.shape[0], dirs.shape[1], 1))\n",
    "    return origs, dirs\n",
    "\n",
    "test_origs, test_dirs = ray_origins_directions(2, 2, focal, poses[0])\n",
    "print(test_origs)\n",
    "print(test_dirs)"
   ]
  },
  {
   "cell_type": "code",
   "execution_count": null,
   "metadata": {},
   "outputs": [],
   "source": [
    "def sample_rays(origs, dirs, near, far, N_samples, rand=True):\n",
    "    z_vals = np.linspace(near, far, N_samples)\n",
    "    if rand:\n",
    "        z_vals += np.random.uniform(z_vals.shape) * (far-near)/N_samples\n",
    "    sample_points = []\n",
    "    for z_val in z_vals:\n",
    "        sample_points.append(origs + dirs * z_val)\n",
    "    return np.stack(sample_points), np.repeat([dirs], N_samples, axis=0), z_vals\n",
    "\n",
    "test_sample_locations, test_sample_dirs, test_z_vals = sample_rays(test_origs, test_dirs, near, far, 3)\n",
    "print(test_sample_locations)\n",
    "print(test_sample_locations.shape)\n",
    "print(test_sample_dirs)\n",
    "print(test_sample_dirs.shape)\n",
    "print(test_z_vals)"
   ]
  },
  {
   "cell_type": "code",
   "execution_count": null,
   "metadata": {},
   "outputs": [],
   "source": [
    "def encode_input(locations, dirs, L):\n",
    "    ret = [dirs]\n",
    "    for i in range(L):\n",
    "        for fn in [np.sin, np.cos]:\n",
    "            ret.append(fn(2.**i * locations))\n",
    "    return np.concatenate(ret, -1)\n",
    "\n",
    "test_model_input = encode_input(test_sample_locations, test_sample_dirs, loc_enc_dim)\n",
    "print(test_model_input[0])\n",
    "print(test_model_input.shape)"
   ]
  },
  {
   "cell_type": "code",
   "execution_count": null,
   "metadata": {},
   "outputs": [],
   "source": [
    "class Model(torch.nn.Module):\n",
    "    def __init__(self, in_dim, hidden_dim):\n",
    "        super().__init__()\n",
    "        self.in_dim = in_dim\n",
    "        self.linear1 = torch.nn.Linear(self.in_dim, hidden_dim)\n",
    "        self.activation1 = torch.nn.ReLU()\n",
    "        self.linear2 = torch.nn.Linear(hidden_dim, hidden_dim)\n",
    "        self.activation2 = torch.nn.ReLU()\n",
    "        self.linear3 = torch.nn.Linear(hidden_dim, 2)\n",
    "        self.activation3 = torch.nn.ReLU()\n",
    "\n",
    "    def forward(self, x):\n",
    "        orig_shape = tuple(x.shape)\n",
    "        x = x.reshape(-1, self.in_dim)\n",
    "        #x = 0.001 * torch.mul(torch.ones(2, x.size()[0]), 1/((1.0-x[:, 3])**2 + (0.0-x[:, 4])**2 + (0.0-x[:, 5])**2)).transpose(0, 1)\n",
    "        x = self.linear1(x)\n",
    "        x = self.activation1(x)\n",
    "        x = self.linear2(x)\n",
    "        x = self.activation2(x)\n",
    "        x = self.linear3(x)\n",
    "        x = self.activation3(x)\n",
    "        x = x.reshape((orig_shape[0], orig_shape[1], orig_shape[2], -1))\n",
    "        return x\n",
    "\n",
    "test_model = Model(3 + 6 * loc_enc_dim, 10)\n",
    "test_output = test_model(torch.tensor(test_model_input, dtype=torch.float32))\n",
    "print(test_output)\n",
    "print(test_output.shape)"
   ]
  },
  {
   "cell_type": "code",
   "execution_count": null,
   "metadata": {},
   "outputs": [],
   "source": [
    "def render_pixels(model_output, z_vals):\n",
    "    dists = torch.tensor(np.concatenate([z_vals[1:] - z_vals[:-1], [1e10]]), dtype=torch.float32)\n",
    "    densities = 1. - torch.exp(-model_output[..., 0] * dists[:, None, None])\n",
    "    weights = densities * torch.cumprod(1. - densities + 1e-10, -1)\n",
    "    return torch.sum(weights * model_output[..., 1], axis=0)\n",
    "    \n",
    "test_luminances = render_pixels(test_output, test_z_vals)\n",
    "print(test_luminances)\n",
    "print(test_luminances.size())"
   ]
  },
  {
   "cell_type": "code",
   "execution_count": null,
   "metadata": {},
   "outputs": [],
   "source": [
    "def pred_image(pose, H, W, focal, near, far, N_samples, loc_enc_dim, model, rand=True):\n",
    "    origs, dirs = ray_origins_directions(H, W, focal, pose)\n",
    "    sample_locations, sample_dirs, z_vals = sample_rays(origs, dirs, near, far, N_samples, rand)\n",
    "    model_input = encode_input(sample_locations, sample_dirs, loc_enc_dim)\n",
    "    model_output = model(torch.tensor(model_input, dtype=torch.float32))\n",
    "    return render_pixels(model_output, z_vals)\n",
    "    \n",
    "test_pose = np.array([\n",
    "    [1, 0, 0, 1],\n",
    "    [0, 1, 0, 0],\n",
    "    [0, 0, 1, 0],\n",
    "    [0, 0, 0, 1]\n",
    "])\n",
    "test_pred = pred_image(test_pose, H, W, focal, 1, 5, N_samples, loc_enc_dim, test_model)\n",
    "print(test_pred.detach().numpy())\n",
    "plt.imshow(test_pred.detach().numpy())\n",
    "plt.show()"
   ]
  },
  {
   "cell_type": "code",
   "execution_count": null,
   "metadata": {},
   "outputs": [],
   "source": [
    "model = Model(3 + 6 * loc_enc_dim, 64)\n",
    "#model.load_state_dict(torch.load(\"./checkpoint\"))"
   ]
  },
  {
   "cell_type": "code",
   "execution_count": null,
   "metadata": {},
   "outputs": [],
   "source": [
    "def train(model, epochs, images, poses, H, W, focal, near, far, N_samples, loc_enc_dim):\n",
    "    optimizer = torch.optim.Adam(model.parameters(), lr=10e-5)\n",
    "    loss = torch.nn.L1Loss()\n",
    "    avg_losses = []\n",
    "    for e in range(epochs):\n",
    "        losses = []\n",
    "        for idx in range(images.shape[0]):\n",
    "            image = images[idx]\n",
    "            pose = poses[idx]\n",
    "            optimizer.zero_grad()\n",
    "            pred = pred_image(pose, H, W, focal, near, far, N_samples, loc_enc_dim, model)\n",
    "            target = torch.tensor(np.average(image, axis=2))\n",
    "            img_loss = loss(target, pred)\n",
    "            img_loss.backward()\n",
    "            optimizer.step()\n",
    "            last_loss = float(img_loss)\n",
    "            losses.append(last_loss)\n",
    "        avg_loss = np.average(losses)\n",
    "        print(f\"epoch {e+1} average loss {avg_loss}\")\n",
    "        avg_losses.append(avg_loss)\n",
    "    plt.plot(range(epochs), avg_losses)\n",
    "    \n",
    "train(model, 10, images, poses, H, W, focal, near, far, N_samples, loc_enc_dim)\n",
    "pred = pred_image(poses[0], H, W, focal, near, far, N_samples, loc_enc_dim, model)\n",
    "target = np.average(images[0], axis=2)\n",
    "plt.imshow(pred.detach().numpy())\n",
    "plt.show()\n",
    "plt.imshow(target)\n",
    "plt.show()"
   ]
  },
  {
   "cell_type": "code",
   "execution_count": null,
   "metadata": {},
   "outputs": [],
   "source": [
    "torch.save(model.state_dict(), \"./checkpoint\")"
   ]
  },
  {
   "cell_type": "code",
   "execution_count": null,
   "metadata": {},
   "outputs": [],
   "source": []
  }
 ],
 "metadata": {
  "kernelspec": {
   "display_name": "Python 3",
   "language": "python",
   "name": "python3"
  },
  "language_info": {
   "codemirror_mode": {
    "name": "ipython",
    "version": 3
   },
   "file_extension": ".py",
   "mimetype": "text/x-python",
   "name": "python",
   "nbconvert_exporter": "python",
   "pygments_lexer": "ipython3",
   "version": "3.7.6"
  }
 },
 "nbformat": 4,
 "nbformat_minor": 4
}
